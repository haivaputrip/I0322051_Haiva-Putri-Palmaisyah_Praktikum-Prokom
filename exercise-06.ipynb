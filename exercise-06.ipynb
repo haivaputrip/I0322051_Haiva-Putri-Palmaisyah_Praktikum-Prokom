{
 "cells": [
  {
   "attachments": {},
   "cell_type": "markdown",
   "metadata": {},
   "source": [
    "1. Tulis program dengan fungsi untuk menentukan yang paling besar dari empat angka yang diberikan!\n",
    "     ###### Note: Angka ditentukan sendiri oleh praktikan"
   ]
  },
  {
   "cell_type": "code",
   "execution_count": 2,
   "metadata": {},
   "outputs": [
    {
     "name": "stdout",
     "output_type": "stream",
     "text": [
      "angka yang paling besar dari keempat angka tersebut adalah 20\n"
     ]
    }
   ],
   "source": [
    "# Kerjakan Nomor 1 di bawah ini\n",
    "angka = [10, 8, 20, 4]\n",
    "print(f\"angka yang paling besar dari keempat angka tersebut adalah {max(angka)}\")"
   ]
  },
  {
   "attachments": {},
   "cell_type": "markdown",
   "metadata": {},
   "source": [
    "2. Tulis fungsi Python yang mengambil list awal dan menampilkan list baru dengan angka unik (tidak ada angka yang sama) dari list yang pertama."
   ]
  },
  {
   "cell_type": "code",
   "execution_count": null,
   "metadata": {},
   "outputs": [],
   "source": [
    "list_awal = [9,9,9,9,9,9,9,10,11,13,14,15,17,19]"
   ]
  },
  {
   "cell_type": "code",
   "execution_count": 4,
   "metadata": {},
   "outputs": [
    {
     "name": "stdout",
     "output_type": "stream",
     "text": [
      "List baru dengan angka unik = [9, 10, 11, 13, 14, 15, 17, 19]\n"
     ]
    }
   ],
   "source": [
    "# Kerjakan Nomor 2 di bawah ini\n",
    "def angkaunik(list_awal):\n",
    "    list_baru = list(set(list_awal))\n",
    "    return list_baru\n",
    "\n",
    "list_awal = [9,9,9,9,9,9,9,10,11,13,14,15,17,19]\n",
    "list_baru = angkaunik(list_awal)\n",
    "print(\"List baru dengan angka unik =\", list_baru)"
   ]
  },
  {
   "attachments": {},
   "cell_type": "markdown",
   "metadata": {},
   "source": [
    "3. Hitunglah 2 angka yang dapat diinputkan dengan angka kedua menjadi pangkat bagi angka pertama, dan angka kedua menjadi pembagi angka pertama (tampilkan juga sisa hasil pembagiannya) \n",
    "\n",
    "clue : gunakan fungsi yang ada di built-in tanpa menggunakan sintaks operator seperti * ataupun /."
   ]
  },
  {
   "cell_type": "code",
   "execution_count": 5,
   "metadata": {},
   "outputs": [
    {
     "name": "stdout",
     "output_type": "stream",
     "text": [
      "9 pangkat 3 = 729\n",
      "9 dibagi 3 = 3 sisa 0\n"
     ]
    }
   ],
   "source": [
    "# Kerjakan Nomor 3 di bawah ini\n",
    "angkapertama = int(input(\"Masukkan angka pertama: \"))\n",
    "angkakedua = int(input(\"Masukkan angka kedua: \"))\n",
    "angka_pangkat = pow(angkapertama, angkakedua)\n",
    "angka_bagi = divmod(angkapertama, angkakedua)\n",
    "\n",
    "print(f\"{angkapertama} pangkat {angkakedua} = {angka_pangkat}\")\n",
    "print(f\"{angkapertama} dibagi {angkakedua} = {angka_bagi[0]} sisa {angka_bagi[1]}\")"
   ]
  }
 ],
 "metadata": {
  "kernelspec": {
   "display_name": "Python 3",
   "language": "python",
   "name": "python3"
  },
  "language_info": {
   "codemirror_mode": {
    "name": "ipython",
    "version": 3
   },
   "file_extension": ".py",
   "mimetype": "text/x-python",
   "name": "python",
   "nbconvert_exporter": "python",
   "pygments_lexer": "ipython3",
   "version": "3.10.8"
  },
  "orig_nbformat": 4,
  "vscode": {
   "interpreter": {
    "hash": "5addf786bcd861d1ce5006f23111f8cbb206731e5b61b0a5632ba9e0252558a8"
   }
  }
 },
 "nbformat": 4,
 "nbformat_minor": 2
}
